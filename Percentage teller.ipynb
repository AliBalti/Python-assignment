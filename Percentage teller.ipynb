{
 "cells": [
  {
   "cell_type": "code",
   "execution_count": null,
   "metadata": {},
   "outputs": [],
   "source": [
    "This is my first assignment\n",
    "Name: Sakhawat Ali\n",
    "Teacher: M Ali Mughal and Team\n",
    "At Saylani Online Classis "
   ]
  },
  {
   "cell_type": "code",
   "execution_count": 7,
   "metadata": {},
   "outputs": [
    {
     "name": "stdout",
     "output_type": "stream",
     "text": [
      "Choose your percentage: 111\n",
      "You enter incorrect entry, please check and re-enter.\n"
     ]
    }
   ],
   "source": [
    "result = int(input(\"Choose your percentage: \")) ;\n",
    "if  result >= 90 and result <= 100 :\n",
    "    print(\"A++\")\n",
    "elif result >= 80 and result < 90 :\n",
    "    print(\"A+\")\n",
    "elif result >= 70 and result < 80 :\n",
    "    print(\"A\")\n",
    "elif result >= 60 and result < 70 :\n",
    "    print(\"B\")\n",
    "elif result >= 50 and result < 60 :\n",
    "    print(\"C\")\n",
    "elif result >= 40 and result < 50 :\n",
    "    print(\"D\")\n",
    "elif result >= 33 and result < 40 :\n",
    "    print(\"E\")\n",
    "elif result < 33 :\n",
    "    print(\"Fail\")\n",
    "else :\n",
    "    print(\"You enter incorrect entry, please check and re-enter.\")"
   ]
  },
  {
   "cell_type": "code",
   "execution_count": null,
   "metadata": {},
   "outputs": [],
   "source": []
  },
  {
   "cell_type": "code",
   "execution_count": null,
   "metadata": {},
   "outputs": [],
   "source": []
  },
  {
   "cell_type": "code",
   "execution_count": null,
   "metadata": {},
   "outputs": [],
   "source": []
  }
 ],
 "metadata": {
  "kernelspec": {
   "display_name": "Python 3",
   "language": "python",
   "name": "python3"
  },
  "language_info": {
   "codemirror_mode": {
    "name": "ipython",
    "version": 3
   },
   "file_extension": ".py",
   "mimetype": "text/x-python",
   "name": "python",
   "nbconvert_exporter": "python",
   "pygments_lexer": "ipython3",
   "version": "3.7.4"
  }
 },
 "nbformat": 4,
 "nbformat_minor": 2
}
